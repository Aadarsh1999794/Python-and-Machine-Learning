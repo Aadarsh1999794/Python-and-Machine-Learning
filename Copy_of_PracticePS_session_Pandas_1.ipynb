{
  "nbformat": 4,
  "nbformat_minor": 0,
  "metadata": {
    "colab": {
      "provenance": [],
      "include_colab_link": true
    },
    "kernelspec": {
      "name": "python3",
      "display_name": "Python 3"
    },
    "language_info": {
      "name": "python"
    }
  },
  "cells": [
    {
      "cell_type": "markdown",
      "metadata": {
        "id": "view-in-github",
        "colab_type": "text"
      },
      "source": [
        "<a href=\"https://colab.research.google.com/github/Aadarsh1999794/Python-and-Machine-Learning/blob/main/Copy_of_PracticePS_session_Pandas_1.ipynb\" target=\"_parent\"><img src=\"https://colab.research.google.com/assets/colab-badge.svg\" alt=\"Open In Colab\"/></a>"
      ]
    },
    {
      "cell_type": "markdown",
      "source": [
        "#Pandas-1"
      ],
      "metadata": {
        "id": "J6ZZAqPPRib_"
      }
    },
    {
      "cell_type": "markdown",
      "source": [
        "### Question:\n",
        "\n",
        "You are given an employee dataset in a CSV file named 'employee_data.csv'. Your task is to analyze this data using Pandas, focusing on the following operations:\n",
        "\n",
        "1. Load the data from 'employee_data.csv' into a DataFrame. Data is given:\n",
        "\n",
        "**data = {\n",
        "    'EmployeeID': [1, 2, 3, 4, 5, 6, 7, 8, 9, 10],\n",
        "    'Name': ['John Doe', 'Jane Smith', 'Mike Johnson', 'Emily Brown', 'David Lee', 'Sarah Wilson', 'Tom Davis', 'Lisa Chen', 'Ryan Taylor', 'Emma White'],\n",
        "    'Department': ['IT', 'HR', 'Finance', 'Marketing', 'IT', 'HR', 'Finance', 'Marketing', 'IT', 'Finance'],\n",
        "    'Salary': [75000, 65000, 80000, 70000, 78000, 67000, 82000, 71000, 76000, 81000],\n",
        "    'YearsOfService': [5, 3, 7, 4, 6, 2, 8, 3, 5, 6]\n",
        "}**\n",
        "\n",
        "<br>\n",
        "\n",
        "2. Display the first 3 rows and the last 2 rows of the DataFrame.\n",
        "3. Show the shape of the DataFrame and list its column names.\n",
        "4. Provide a concise summary of the DataFrame's content.\n",
        "5. Rename the 'YearsOfService' column to 'Experience'.\n",
        "6. Create a new column 'SalaryPerYear' by dividing 'Salary' by 'Experience'.\n",
        "7. Display the number of unique departments and the count of employees in each department.\n",
        "8. Set 'EmployeeID' as the index of the DataFrame.\n",
        "9. Use loc to select employees from the IT department and iloc to select the first 5 rows and first 3 columns.\n",
        "10. Drop the 'Salary' column.\n",
        "11. Reset the index of the DataFrame."
      ],
      "metadata": {
        "id": "vNr_6xApRkeb"
      }
    },
    {
      "cell_type": "code",
      "execution_count": 1,
      "metadata": {
        "id": "NogGIeNgOx5S",
        "colab": {
          "base_uri": "https://localhost:8080/"
        },
        "outputId": "6f6379d1-3b2d-4bb4-ec89-23c2f0779fb9"
      },
      "outputs": [
        {
          "output_type": "stream",
          "name": "stdout",
          "text": [
            "   EmployeeID        Name Department  Salary  YearsOfService\n",
            "0           1    John Doe         IT   75000               5\n",
            "1           2  Jane Smith         HR   65000               3\n",
            "2           2  Jane Smith         HR   62000               3\n",
            "    EmployeeID         Name Department  Salary  YearsOfService\n",
            "8            8    Lisa Chen  Marketing   71000               3\n",
            "9            9  Ryan Taylor         IT   76000               5\n",
            "10          10   Emma White    Finance   81000               6\n",
            "(11, 5)\n",
            "Index(['EmployeeID', 'Name', 'Department', 'Salary', 'YearsOfService'], dtype='object')\n",
            "<class 'pandas.core.frame.DataFrame'>\n",
            "RangeIndex: 11 entries, 0 to 10\n",
            "Data columns (total 5 columns):\n",
            " #   Column          Non-Null Count  Dtype \n",
            "---  ------          --------------  ----- \n",
            " 0   EmployeeID      11 non-null     int64 \n",
            " 1   Name            11 non-null     object\n",
            " 2   Department      11 non-null     object\n",
            " 3   Salary          11 non-null     int64 \n",
            " 4   YearsOfService  11 non-null     int64 \n",
            "dtypes: int64(3), object(2)\n",
            "memory usage: 568.0+ bytes\n",
            "None\n",
            "4\n",
            "Department\n",
            "IT           3\n",
            "HR           3\n",
            "Finance      3\n",
            "Marketing    2\n",
            "Name: count, dtype: int64\n",
            "                   Name Department  Salary  Experience  SalaryPerYear\n",
            "EmployeeID                                                           \n",
            "1              John Doe         IT   75000           5        15000.0\n",
            "5             David Lee         IT   78000           6        13000.0\n",
            "9           Ryan Taylor         IT   76000           5        15200.0\n",
            "                    Name Department  Salary\n",
            "EmployeeID                                 \n",
            "1               John Doe         IT   75000\n",
            "2             Jane Smith         HR   65000\n",
            "2             Jane Smith         HR   62000\n",
            "3           Mike Johnson    Finance   80000\n",
            "4            Emily Brown  Marketing   70000\n",
            "            Name Department  Experience  SalaryPerYear\n",
            "0       John Doe         IT           5   15000.000000\n",
            "1     Jane Smith         HR           3   21666.666667\n",
            "2     Jane Smith         HR           3   20666.666667\n",
            "3   Mike Johnson    Finance           7   11428.571429\n",
            "4    Emily Brown  Marketing           4   17500.000000\n",
            "5      David Lee         IT           6   13000.000000\n",
            "6   Sarah Wilson         HR           2   33500.000000\n",
            "7      Tom Davis    Finance           8   10250.000000\n",
            "8      Lisa Chen  Marketing           3   23666.666667\n",
            "9    Ryan Taylor         IT           5   15200.000000\n",
            "10    Emma White    Finance           6   13500.000000\n"
          ]
        }
      ],
      "source": [
        "import pandas as pd\n",
        "\n",
        "data = {\n",
        "    'EmployeeID': [1, 2, 2, 3, 4, 5, 6, 7, 8, 9, 10],\n",
        "    'Name': ['John Doe', 'Jane Smith', 'Jane Smith', 'Mike Johnson', 'Emily Brown', 'David Lee', 'Sarah Wilson', 'Tom Davis', 'Lisa Chen', 'Ryan Taylor', 'Emma White'],\n",
        "    'Department': ['IT', 'HR','HR', 'Finance', 'Marketing', 'IT', 'HR', 'Finance', 'Marketing', 'IT', 'Finance'],\n",
        "    'Salary': [75000, 65000, 62000, 80000, 70000, 78000, 67000, 82000, 71000, 76000, 81000],\n",
        "    'YearsOfService': [5, 3, 3, 7, 4, 6, 2, 8, 3, 5, 6] # Rename this to Experience\n",
        "}\n",
        "\n",
        "df = pd.DataFrame(data)\n",
        "\n",
        "# First 3 rows\n",
        "print(df.head(3)) # Display the first n rows\n",
        "\n",
        "# Last 3 rows\n",
        "print(df.tail(3)) # Display the last n rows\n",
        "\n",
        "# Show the shape of the DataFrame and list its column names.\n",
        "print(df.shape)\n",
        "print(df.columns)\n",
        "\n",
        "# Provide a concise summary of the DataFrame's content.\n",
        "print(df.info()) # Summary\n",
        "\n",
        "# Rename the 'YearsOfService' column to 'Experience'.\n",
        "df.rename(columns={\"YearsOfService\" : \"Experience\"}, inplace=True)\n",
        "\n",
        "# Create a new column 'SalaryPerYear' by dividing 'Salary' by 'Experience'.\n",
        "df['SalaryPerYear'] = df['Salary'] / df['Experience']\n",
        "\n",
        "# Display the number of unique departments and the count of employees in each department.\n",
        "print(df['Department'].nunique()) # Number of unique\n",
        "\n",
        "print(df['Department'].value_counts()) # The number of times a department occurs or its frequency\n",
        "\n",
        "# Set 'EmployeeID' as the index of the DataFrame.\n",
        "df.set_index('EmployeeID', inplace=True)\n",
        "\n",
        "# Use loc to select employees from the IT department and iloc to select the first 5 rows and first 3 columns.\n",
        "print(df.loc[df['Department'] == 'IT'])\n",
        "\n",
        "print(df.iloc[ : 5, : 3]) # df.iloc[rows, columns]\n",
        "\n",
        "# Drop the 'Salary' column.\n",
        "df.drop('Salary', axis=1, inplace=True)\n",
        "\n",
        "# Reset the index of the DataFrame.\n",
        "df.reset_index(inplace=True, drop=True)\n",
        "\n",
        "print(df)"
      ]
    },
    {
      "cell_type": "code",
      "source": [
        "#rom posixpath import expanduser\n",
        "#print(df['Department'].nunique()) # Number of unique\n",
        "#print(df['Department'].value_counts())\n",
        "#df.reset_index(inplace=True,drop=True)\n",
        "#print(df.columns)\n",
        "#df.reset_index(inplace=True, drop=True)\n",
        "#print(df.columns)\n",
        "#df.set_index('Department',inplace=True)\n",
        "#type(df['Experience'])\n",
        "#df\n",
        "#df['Experience'].value_counts()\n",
        "#df.rename({'Experience':'Exp'}, axis=1)\n",
        "\n",
        "# OR\n",
        "\n",
        "#df.rename( ={'Experience' : 'Exp'})\n",
        "#df.reset_index(inplace=True)   #Reset dataframe in pandas\n",
        "#df\n",
        "#df.index.values\n",
        "#df.index.values\n",
        "import numpy as np\n",
        "#df.index=np.arange(1,df.shape[0]+1,dtype='float')\n",
        "#sample=df.head()\n",
        "#sample.index=['a','b','c','d','e']\n",
        "#sample.reset_index(inplace=True)\n",
        "#sample\n",
        "#df.reset_index(inplace=True)\n",
        "df.index=np.arange(1,df.shape[0]+1)\n",
        "df.loc[2]"
      ],
      "metadata": {
        "colab": {
          "base_uri": "https://localhost:8080/",
          "height": 210
        },
        "id": "TOiKgMlD0Uwo",
        "outputId": "2908afcc-6aaf-4158-edb3-6f9fe587d7fc"
      },
      "execution_count": null,
      "outputs": [
        {
          "output_type": "execute_result",
          "data": {
            "text/plain": [
              "Name               Jane Smith\n",
              "Department                 HR\n",
              "Experience                  3\n",
              "SalaryPerYear    21666.666667\n",
              "Name: 2, dtype: object"
            ],
            "text/html": [
              "<div>\n",
              "<style scoped>\n",
              "    .dataframe tbody tr th:only-of-type {\n",
              "        vertical-align: middle;\n",
              "    }\n",
              "\n",
              "    .dataframe tbody tr th {\n",
              "        vertical-align: top;\n",
              "    }\n",
              "\n",
              "    .dataframe thead th {\n",
              "        text-align: right;\n",
              "    }\n",
              "</style>\n",
              "<table border=\"1\" class=\"dataframe\">\n",
              "  <thead>\n",
              "    <tr style=\"text-align: right;\">\n",
              "      <th></th>\n",
              "      <th>2</th>\n",
              "    </tr>\n",
              "  </thead>\n",
              "  <tbody>\n",
              "    <tr>\n",
              "      <th>Name</th>\n",
              "      <td>Jane Smith</td>\n",
              "    </tr>\n",
              "    <tr>\n",
              "      <th>Department</th>\n",
              "      <td>HR</td>\n",
              "    </tr>\n",
              "    <tr>\n",
              "      <th>Experience</th>\n",
              "      <td>3</td>\n",
              "    </tr>\n",
              "    <tr>\n",
              "      <th>SalaryPerYear</th>\n",
              "      <td>21666.666667</td>\n",
              "    </tr>\n",
              "  </tbody>\n",
              "</table>\n",
              "</div><br><label><b>dtype:</b> object</label>"
            ]
          },
          "metadata": {},
          "execution_count": 3
        }
      ]
    },
    {
      "cell_type": "code",
      "source": [
        "df.drop_duplicates(subset=['Name'], keep='last') # It will all the duplicates and keep the first row by default"
      ],
      "metadata": {
        "colab": {
          "base_uri": "https://localhost:8080/",
          "height": 363
        },
        "id": "Ik2OOCyt6RNP",
        "outputId": "7306111b-3bae-4d75-828e-a1ed0c37b062"
      },
      "execution_count": null,
      "outputs": [
        {
          "output_type": "execute_result",
          "data": {
            "text/plain": [
              "    index          Name Department  Experience  SalaryPerYear\n",
              "1       0      John Doe         IT           5   15000.000000\n",
              "3       2    Jane Smith         HR           3   20666.666667\n",
              "4       3  Mike Johnson    Finance           7   11428.571429\n",
              "5       4   Emily Brown  Marketing           4   17500.000000\n",
              "6       5     David Lee         IT           6   13000.000000\n",
              "7       6  Sarah Wilson         HR           2   33500.000000\n",
              "8       7     Tom Davis    Finance           8   10250.000000\n",
              "9       8     Lisa Chen  Marketing           3   23666.666667\n",
              "10      9   Ryan Taylor         IT           5   15200.000000\n",
              "11     10    Emma White    Finance           6   13500.000000"
            ],
            "text/html": [
              "\n",
              "  <div id=\"df-6bd8532f-102c-413b-8530-0c23a8cad66e\" class=\"colab-df-container\">\n",
              "    <div>\n",
              "<style scoped>\n",
              "    .dataframe tbody tr th:only-of-type {\n",
              "        vertical-align: middle;\n",
              "    }\n",
              "\n",
              "    .dataframe tbody tr th {\n",
              "        vertical-align: top;\n",
              "    }\n",
              "\n",
              "    .dataframe thead th {\n",
              "        text-align: right;\n",
              "    }\n",
              "</style>\n",
              "<table border=\"1\" class=\"dataframe\">\n",
              "  <thead>\n",
              "    <tr style=\"text-align: right;\">\n",
              "      <th></th>\n",
              "      <th>index</th>\n",
              "      <th>Name</th>\n",
              "      <th>Department</th>\n",
              "      <th>Experience</th>\n",
              "      <th>SalaryPerYear</th>\n",
              "    </tr>\n",
              "  </thead>\n",
              "  <tbody>\n",
              "    <tr>\n",
              "      <th>1</th>\n",
              "      <td>0</td>\n",
              "      <td>John Doe</td>\n",
              "      <td>IT</td>\n",
              "      <td>5</td>\n",
              "      <td>15000.000000</td>\n",
              "    </tr>\n",
              "    <tr>\n",
              "      <th>3</th>\n",
              "      <td>2</td>\n",
              "      <td>Jane Smith</td>\n",
              "      <td>HR</td>\n",
              "      <td>3</td>\n",
              "      <td>20666.666667</td>\n",
              "    </tr>\n",
              "    <tr>\n",
              "      <th>4</th>\n",
              "      <td>3</td>\n",
              "      <td>Mike Johnson</td>\n",
              "      <td>Finance</td>\n",
              "      <td>7</td>\n",
              "      <td>11428.571429</td>\n",
              "    </tr>\n",
              "    <tr>\n",
              "      <th>5</th>\n",
              "      <td>4</td>\n",
              "      <td>Emily Brown</td>\n",
              "      <td>Marketing</td>\n",
              "      <td>4</td>\n",
              "      <td>17500.000000</td>\n",
              "    </tr>\n",
              "    <tr>\n",
              "      <th>6</th>\n",
              "      <td>5</td>\n",
              "      <td>David Lee</td>\n",
              "      <td>IT</td>\n",
              "      <td>6</td>\n",
              "      <td>13000.000000</td>\n",
              "    </tr>\n",
              "    <tr>\n",
              "      <th>7</th>\n",
              "      <td>6</td>\n",
              "      <td>Sarah Wilson</td>\n",
              "      <td>HR</td>\n",
              "      <td>2</td>\n",
              "      <td>33500.000000</td>\n",
              "    </tr>\n",
              "    <tr>\n",
              "      <th>8</th>\n",
              "      <td>7</td>\n",
              "      <td>Tom Davis</td>\n",
              "      <td>Finance</td>\n",
              "      <td>8</td>\n",
              "      <td>10250.000000</td>\n",
              "    </tr>\n",
              "    <tr>\n",
              "      <th>9</th>\n",
              "      <td>8</td>\n",
              "      <td>Lisa Chen</td>\n",
              "      <td>Marketing</td>\n",
              "      <td>3</td>\n",
              "      <td>23666.666667</td>\n",
              "    </tr>\n",
              "    <tr>\n",
              "      <th>10</th>\n",
              "      <td>9</td>\n",
              "      <td>Ryan Taylor</td>\n",
              "      <td>IT</td>\n",
              "      <td>5</td>\n",
              "      <td>15200.000000</td>\n",
              "    </tr>\n",
              "    <tr>\n",
              "      <th>11</th>\n",
              "      <td>10</td>\n",
              "      <td>Emma White</td>\n",
              "      <td>Finance</td>\n",
              "      <td>6</td>\n",
              "      <td>13500.000000</td>\n",
              "    </tr>\n",
              "  </tbody>\n",
              "</table>\n",
              "</div>\n",
              "    <div class=\"colab-df-buttons\">\n",
              "\n",
              "  <div class=\"colab-df-container\">\n",
              "    <button class=\"colab-df-convert\" onclick=\"convertToInteractive('df-6bd8532f-102c-413b-8530-0c23a8cad66e')\"\n",
              "            title=\"Convert this dataframe to an interactive table.\"\n",
              "            style=\"display:none;\">\n",
              "\n",
              "  <svg xmlns=\"http://www.w3.org/2000/svg\" height=\"24px\" viewBox=\"0 -960 960 960\">\n",
              "    <path d=\"M120-120v-720h720v720H120Zm60-500h600v-160H180v160Zm220 220h160v-160H400v160Zm0 220h160v-160H400v160ZM180-400h160v-160H180v160Zm440 0h160v-160H620v160ZM180-180h160v-160H180v160Zm440 0h160v-160H620v160Z\"/>\n",
              "  </svg>\n",
              "    </button>\n",
              "\n",
              "  <style>\n",
              "    .colab-df-container {\n",
              "      display:flex;\n",
              "      gap: 12px;\n",
              "    }\n",
              "\n",
              "    .colab-df-convert {\n",
              "      background-color: #E8F0FE;\n",
              "      border: none;\n",
              "      border-radius: 50%;\n",
              "      cursor: pointer;\n",
              "      display: none;\n",
              "      fill: #1967D2;\n",
              "      height: 32px;\n",
              "      padding: 0 0 0 0;\n",
              "      width: 32px;\n",
              "    }\n",
              "\n",
              "    .colab-df-convert:hover {\n",
              "      background-color: #E2EBFA;\n",
              "      box-shadow: 0px 1px 2px rgba(60, 64, 67, 0.3), 0px 1px 3px 1px rgba(60, 64, 67, 0.15);\n",
              "      fill: #174EA6;\n",
              "    }\n",
              "\n",
              "    .colab-df-buttons div {\n",
              "      margin-bottom: 4px;\n",
              "    }\n",
              "\n",
              "    [theme=dark] .colab-df-convert {\n",
              "      background-color: #3B4455;\n",
              "      fill: #D2E3FC;\n",
              "    }\n",
              "\n",
              "    [theme=dark] .colab-df-convert:hover {\n",
              "      background-color: #434B5C;\n",
              "      box-shadow: 0px 1px 3px 1px rgba(0, 0, 0, 0.15);\n",
              "      filter: drop-shadow(0px 1px 2px rgba(0, 0, 0, 0.3));\n",
              "      fill: #FFFFFF;\n",
              "    }\n",
              "  </style>\n",
              "\n",
              "    <script>\n",
              "      const buttonEl =\n",
              "        document.querySelector('#df-6bd8532f-102c-413b-8530-0c23a8cad66e button.colab-df-convert');\n",
              "      buttonEl.style.display =\n",
              "        google.colab.kernel.accessAllowed ? 'block' : 'none';\n",
              "\n",
              "      async function convertToInteractive(key) {\n",
              "        const element = document.querySelector('#df-6bd8532f-102c-413b-8530-0c23a8cad66e');\n",
              "        const dataTable =\n",
              "          await google.colab.kernel.invokeFunction('convertToInteractive',\n",
              "                                                    [key], {});\n",
              "        if (!dataTable) return;\n",
              "\n",
              "        const docLinkHtml = 'Like what you see? Visit the ' +\n",
              "          '<a target=\"_blank\" href=https://colab.research.google.com/notebooks/data_table.ipynb>data table notebook</a>'\n",
              "          + ' to learn more about interactive tables.';\n",
              "        element.innerHTML = '';\n",
              "        dataTable['output_type'] = 'display_data';\n",
              "        await google.colab.output.renderOutput(dataTable, element);\n",
              "        const docLink = document.createElement('div');\n",
              "        docLink.innerHTML = docLinkHtml;\n",
              "        element.appendChild(docLink);\n",
              "      }\n",
              "    </script>\n",
              "  </div>\n",
              "\n",
              "\n",
              "<div id=\"df-16ab5c76-5046-4bb7-ad40-5d1a20134da5\">\n",
              "  <button class=\"colab-df-quickchart\" onclick=\"quickchart('df-16ab5c76-5046-4bb7-ad40-5d1a20134da5')\"\n",
              "            title=\"Suggest charts\"\n",
              "            style=\"display:none;\">\n",
              "\n",
              "<svg xmlns=\"http://www.w3.org/2000/svg\" height=\"24px\"viewBox=\"0 0 24 24\"\n",
              "     width=\"24px\">\n",
              "    <g>\n",
              "        <path d=\"M19 3H5c-1.1 0-2 .9-2 2v14c0 1.1.9 2 2 2h14c1.1 0 2-.9 2-2V5c0-1.1-.9-2-2-2zM9 17H7v-7h2v7zm4 0h-2V7h2v10zm4 0h-2v-4h2v4z\"/>\n",
              "    </g>\n",
              "</svg>\n",
              "  </button>\n",
              "\n",
              "<style>\n",
              "  .colab-df-quickchart {\n",
              "      --bg-color: #E8F0FE;\n",
              "      --fill-color: #1967D2;\n",
              "      --hover-bg-color: #E2EBFA;\n",
              "      --hover-fill-color: #174EA6;\n",
              "      --disabled-fill-color: #AAA;\n",
              "      --disabled-bg-color: #DDD;\n",
              "  }\n",
              "\n",
              "  [theme=dark] .colab-df-quickchart {\n",
              "      --bg-color: #3B4455;\n",
              "      --fill-color: #D2E3FC;\n",
              "      --hover-bg-color: #434B5C;\n",
              "      --hover-fill-color: #FFFFFF;\n",
              "      --disabled-bg-color: #3B4455;\n",
              "      --disabled-fill-color: #666;\n",
              "  }\n",
              "\n",
              "  .colab-df-quickchart {\n",
              "    background-color: var(--bg-color);\n",
              "    border: none;\n",
              "    border-radius: 50%;\n",
              "    cursor: pointer;\n",
              "    display: none;\n",
              "    fill: var(--fill-color);\n",
              "    height: 32px;\n",
              "    padding: 0;\n",
              "    width: 32px;\n",
              "  }\n",
              "\n",
              "  .colab-df-quickchart:hover {\n",
              "    background-color: var(--hover-bg-color);\n",
              "    box-shadow: 0 1px 2px rgba(60, 64, 67, 0.3), 0 1px 3px 1px rgba(60, 64, 67, 0.15);\n",
              "    fill: var(--button-hover-fill-color);\n",
              "  }\n",
              "\n",
              "  .colab-df-quickchart-complete:disabled,\n",
              "  .colab-df-quickchart-complete:disabled:hover {\n",
              "    background-color: var(--disabled-bg-color);\n",
              "    fill: var(--disabled-fill-color);\n",
              "    box-shadow: none;\n",
              "  }\n",
              "\n",
              "  .colab-df-spinner {\n",
              "    border: 2px solid var(--fill-color);\n",
              "    border-color: transparent;\n",
              "    border-bottom-color: var(--fill-color);\n",
              "    animation:\n",
              "      spin 1s steps(1) infinite;\n",
              "  }\n",
              "\n",
              "  @keyframes spin {\n",
              "    0% {\n",
              "      border-color: transparent;\n",
              "      border-bottom-color: var(--fill-color);\n",
              "      border-left-color: var(--fill-color);\n",
              "    }\n",
              "    20% {\n",
              "      border-color: transparent;\n",
              "      border-left-color: var(--fill-color);\n",
              "      border-top-color: var(--fill-color);\n",
              "    }\n",
              "    30% {\n",
              "      border-color: transparent;\n",
              "      border-left-color: var(--fill-color);\n",
              "      border-top-color: var(--fill-color);\n",
              "      border-right-color: var(--fill-color);\n",
              "    }\n",
              "    40% {\n",
              "      border-color: transparent;\n",
              "      border-right-color: var(--fill-color);\n",
              "      border-top-color: var(--fill-color);\n",
              "    }\n",
              "    60% {\n",
              "      border-color: transparent;\n",
              "      border-right-color: var(--fill-color);\n",
              "    }\n",
              "    80% {\n",
              "      border-color: transparent;\n",
              "      border-right-color: var(--fill-color);\n",
              "      border-bottom-color: var(--fill-color);\n",
              "    }\n",
              "    90% {\n",
              "      border-color: transparent;\n",
              "      border-bottom-color: var(--fill-color);\n",
              "    }\n",
              "  }\n",
              "</style>\n",
              "\n",
              "  <script>\n",
              "    async function quickchart(key) {\n",
              "      const quickchartButtonEl =\n",
              "        document.querySelector('#' + key + ' button');\n",
              "      quickchartButtonEl.disabled = true;  // To prevent multiple clicks.\n",
              "      quickchartButtonEl.classList.add('colab-df-spinner');\n",
              "      try {\n",
              "        const charts = await google.colab.kernel.invokeFunction(\n",
              "            'suggestCharts', [key], {});\n",
              "      } catch (error) {\n",
              "        console.error('Error during call to suggestCharts:', error);\n",
              "      }\n",
              "      quickchartButtonEl.classList.remove('colab-df-spinner');\n",
              "      quickchartButtonEl.classList.add('colab-df-quickchart-complete');\n",
              "    }\n",
              "    (() => {\n",
              "      let quickchartButtonEl =\n",
              "        document.querySelector('#df-16ab5c76-5046-4bb7-ad40-5d1a20134da5 button');\n",
              "      quickchartButtonEl.style.display =\n",
              "        google.colab.kernel.accessAllowed ? 'block' : 'none';\n",
              "    })();\n",
              "  </script>\n",
              "</div>\n",
              "\n",
              "    </div>\n",
              "  </div>\n"
            ],
            "application/vnd.google.colaboratory.intrinsic+json": {
              "type": "dataframe",
              "summary": "{\n  \"name\": \"df\",\n  \"rows\": 10,\n  \"fields\": [\n    {\n      \"column\": \"index\",\n      \"properties\": {\n        \"dtype\": \"number\",\n        \"std\": 3,\n        \"min\": 0,\n        \"max\": 10,\n        \"num_unique_values\": 10,\n        \"samples\": [\n          9,\n          2,\n          6\n        ],\n        \"semantic_type\": \"\",\n        \"description\": \"\"\n      }\n    },\n    {\n      \"column\": \"Name\",\n      \"properties\": {\n        \"dtype\": \"string\",\n        \"num_unique_values\": 10,\n        \"samples\": [\n          \"Ryan Taylor\",\n          \"Jane Smith\",\n          \"Sarah Wilson\"\n        ],\n        \"semantic_type\": \"\",\n        \"description\": \"\"\n      }\n    },\n    {\n      \"column\": \"Department\",\n      \"properties\": {\n        \"dtype\": \"category\",\n        \"num_unique_values\": 4,\n        \"samples\": [\n          \"HR\",\n          \"Marketing\",\n          \"IT\"\n        ],\n        \"semantic_type\": \"\",\n        \"description\": \"\"\n      }\n    },\n    {\n      \"column\": \"Experience\",\n      \"properties\": {\n        \"dtype\": \"number\",\n        \"std\": 1,\n        \"min\": 2,\n        \"max\": 8,\n        \"num_unique_values\": 7,\n        \"samples\": [\n          5,\n          3,\n          2\n        ],\n        \"semantic_type\": \"\",\n        \"description\": \"\"\n      }\n    },\n    {\n      \"column\": \"SalaryPerYear\",\n      \"properties\": {\n        \"dtype\": \"number\",\n        \"std\": 7000.828375741406,\n        \"min\": 10250.0,\n        \"max\": 33500.0,\n        \"num_unique_values\": 10,\n        \"samples\": [\n          15200.0,\n          20666.666666666668,\n          33500.0\n        ],\n        \"semantic_type\": \"\",\n        \"description\": \"\"\n      }\n    }\n  ]\n}"
            }
          },
          "metadata": {},
          "execution_count": 105
        }
      ]
    },
    {
      "cell_type": "code",
      "source": [
        "# Unique() function works for series, nunique() works for both\n",
        "#df.nunique() # Number of unique values in each column\n",
        "#Department.nunique()\n",
        "#df['Name'].nunique()\n",
        "df['Experience'].nunique()\n",
        "#df['Name'].value_counts()"
      ],
      "metadata": {
        "colab": {
          "base_uri": "https://localhost:8080/"
        },
        "id": "m8TDbXT63xCy",
        "outputId": "78421571-0fdb-4e0d-a67f-bdc364678c1e"
      },
      "execution_count": null,
      "outputs": [
        {
          "output_type": "execute_result",
          "data": {
            "text/plain": [
              "7"
            ]
          },
          "metadata": {},
          "execution_count": 4
        }
      ]
    },
    {
      "cell_type": "code",
      "source": [
        "# Statistical Summary of the data\n",
        "#print(df.describe())\n",
        "#print(df.head(10))\n",
        "#df.shape\n",
        "#df.dtypes\n",
        "#df.describe().T\n",
        "#df.duplicated().sum()\n",
        "#df.isnull().sum()\n",
        "df.info()"
      ],
      "metadata": {
        "colab": {
          "base_uri": "https://localhost:8080/"
        },
        "id": "wMFth1rl2mZ1",
        "outputId": "af8863b0-d497-4789-bfdc-ec5cb5738bfb"
      },
      "execution_count": null,
      "outputs": [
        {
          "output_type": "stream",
          "name": "stdout",
          "text": [
            "<class 'pandas.core.frame.DataFrame'>\n",
            "RangeIndex: 11 entries, 0 to 10\n",
            "Data columns (total 4 columns):\n",
            " #   Column         Non-Null Count  Dtype  \n",
            "---  ------         --------------  -----  \n",
            " 0   Name           11 non-null     object \n",
            " 1   Department     11 non-null     object \n",
            " 2   Experience     11 non-null     int64  \n",
            " 3   SalaryPerYear  11 non-null     float64\n",
            "dtypes: float64(1), int64(1), object(2)\n",
            "memory usage: 480.0+ bytes\n"
          ]
        }
      ]
    },
    {
      "cell_type": "markdown",
      "source": [
        "### Question:\n",
        "\n",
        "You are a product manager for an electronics store. You've been given a data containing information about your products. Your task is to analyze this data and find the product with the highest total value in stock. To do this, you'll need to use various Pandas operations.\n",
        "\n",
        "Follow these steps to solve the problem:\n",
        "\n",
        "1. Load the data into dataframe.  \n",
        "\n",
        "Sample dataset:  \n",
        "\n",
        "**data = {\n",
        "    'Date': ['2023-01-01', '2023-01-02', '2023-01-03', '2023-01-04', '2023-01-05'],\n",
        "    'Product_ID': ['A001', 'B002', 'C003', 'A001', 'B002'],\n",
        "    'Product_Name': ['Laptop', 'Smartphone', 'Tablet', 'Laptop', 'Smartphone'],\n",
        "    'Category': ['Electronics', 'Electronics', 'Electronics', 'Electronics', 'Electronics'],\n",
        "    'Price': [1200, 800, 500, 1200, 800],\n",
        "    'Stock': [50, 100, 75, 45, 95]\n",
        "}**\n",
        "\n",
        "<br>\n",
        "\n",
        "2. Display the first 3 rows of the dataset to familiarize yourself with its structure.\n",
        "3. Check the basic information about the dataset, including column names and data types.\n",
        "4. Rename the 'Stock' column to 'Quantity_in_Stock' for clarity.\n",
        "5. Create a new column called 'Total_Value' by multiplying 'Price' and 'Quantity_in_Stock'.\n",
        "6. Set the 'Product_ID' as the index of the DataFrame.\n",
        "7. Using the 'loc' accessor, find the 'Total_Value' for the product with ID 'B002'.\n",
        "8. Drop the 'Category' column as it's not needed for this analysis.\n",
        "9. Reset the index to make 'Product_ID' a regular column again.\n",
        "10. Use 'iloc' to display the 'Product_Name' and 'Total_Value' of the last product in the DataFrame.\n",
        "11. Find the number of unique products in the dataset.\n",
        "12. Identify the product with the highest 'Total_Value' and display its name."
      ],
      "metadata": {
        "id": "SJzfujUwVEv_"
      }
    },
    {
      "cell_type": "code",
      "source": [
        "import pandas as pd\n",
        "\n",
        "# Sample dataset\n",
        "data = {\n",
        "    'Date': ['2023-01-01', '2023-01-02', '2023-01-03', '2023-01-04', '2023-01-05'],\n",
        "    'Product_ID': ['A001', 'B002', 'C003', 'A001', 'B002'],\n",
        "    'Product_Name': ['Laptop', 'Smartphone', 'Tablet', 'Laptop', 'Smartphone'],\n",
        "    'Category': ['Electronics', 'Electronics', 'Electronics', 'Electronics', 'Electronics'],\n",
        "    'Price': [1200, 800, 500, 1200, 800],\n",
        "    'Stock': [50, 100, 75, 45, 95]\n",
        "}\n",
        "\n",
        "# 1. Load the data\n",
        "df = pd.DataFrame(data)\n",
        "\n",
        "# 2. Display the first 3 rows of the dataset to familiarize yourself with its structure.\n",
        "print(df.head(3))\n",
        "\n",
        "# Rename the 'Stock' column to 'Quantity_in_Stock' for clarity.\n",
        "df.rename(columns={'Stock' : 'Quantity_in_Stock'}, inplace=True)\n",
        "\n",
        "# Create a new column called 'Total_Value' by multiplying 'Price' and 'Quantity_in_Stock'.\n",
        "df['Total_Value'] = df['Price'] * df['Quantity_in_Stock']\n",
        "\n",
        "# Set the 'Product_ID' as the index of the DataFrame.\n",
        "df.set_index('Product_ID', inplace=True)\n",
        "\n",
        "# Using the 'loc' accessor, find the 'Total_Value' for the product with ID 'B002'.\n",
        "print(df.loc['B002', 'Total_Value'])\n",
        "\n",
        "# Drop the 'Category' column as it's not needed for this analysis.\n",
        "df.drop('Category', axis=1, inplace=True)\n",
        "\n",
        "# Reset the index to make 'Product_ID' a regular column again.\n",
        "df.reset_index(inplace=True)\n",
        "\n",
        "# print(df.head())\n",
        "# Use 'iloc' to display the 'Product_Name' and 'Total_Value' of the last product in the DataFrame\n",
        "df.iloc[-1 : , [2,5]] # -1 last row, [2, 5] -> 3rd and 6th column\n",
        "\n",
        "# Find the number of unique products in the dataset.\n",
        "df['Product_ID'].nunique()\n",
        "\n",
        "\n",
        "# Identify the product with the highest 'Total_Value' and display its name\n",
        "highest_total_value = df['Total_Value'].max()\n",
        "\n",
        "# All the rows where total value is equal to highest_total_value\n",
        "df.loc[df['Total_Value'] == highest_total_value, ['Product_ID', 'Product_Name']]\n",
        "\n",
        "\n",
        "# df['Total_Value'] == df['Total_Value'].max() -> total_value should be equal to the maximum possible values"
      ],
      "metadata": {
        "id": "r1l1r-3QRsnO",
        "colab": {
          "base_uri": "https://localhost:8080/",
          "height": 219
        },
        "outputId": "ee87d1cd-f6b9-45df-a0ca-3280e5e8ef56"
      },
      "execution_count": null,
      "outputs": [
        {
          "output_type": "stream",
          "name": "stdout",
          "text": [
            "         Date Product_ID Product_Name     Category  Price  Stock\n",
            "0  2023-01-01       A001       Laptop  Electronics   1200     50\n",
            "1  2023-01-02       B002   Smartphone  Electronics    800    100\n",
            "2  2023-01-03       C003       Tablet  Electronics    500     75\n",
            "Product_ID\n",
            "B002    80000\n",
            "B002    76000\n",
            "Name: Total_Value, dtype: int64\n"
          ]
        },
        {
          "output_type": "execute_result",
          "data": {
            "text/plain": [
              "  Product_ID Product_Name\n",
              "1       B002   Smartphone"
            ],
            "text/html": [
              "\n",
              "  <div id=\"df-036b4cc3-5c76-4bca-917e-00cd2422460d\" class=\"colab-df-container\">\n",
              "    <div>\n",
              "<style scoped>\n",
              "    .dataframe tbody tr th:only-of-type {\n",
              "        vertical-align: middle;\n",
              "    }\n",
              "\n",
              "    .dataframe tbody tr th {\n",
              "        vertical-align: top;\n",
              "    }\n",
              "\n",
              "    .dataframe thead th {\n",
              "        text-align: right;\n",
              "    }\n",
              "</style>\n",
              "<table border=\"1\" class=\"dataframe\">\n",
              "  <thead>\n",
              "    <tr style=\"text-align: right;\">\n",
              "      <th></th>\n",
              "      <th>Product_ID</th>\n",
              "      <th>Product_Name</th>\n",
              "    </tr>\n",
              "  </thead>\n",
              "  <tbody>\n",
              "    <tr>\n",
              "      <th>1</th>\n",
              "      <td>B002</td>\n",
              "      <td>Smartphone</td>\n",
              "    </tr>\n",
              "  </tbody>\n",
              "</table>\n",
              "</div>\n",
              "    <div class=\"colab-df-buttons\">\n",
              "\n",
              "  <div class=\"colab-df-container\">\n",
              "    <button class=\"colab-df-convert\" onclick=\"convertToInteractive('df-036b4cc3-5c76-4bca-917e-00cd2422460d')\"\n",
              "            title=\"Convert this dataframe to an interactive table.\"\n",
              "            style=\"display:none;\">\n",
              "\n",
              "  <svg xmlns=\"http://www.w3.org/2000/svg\" height=\"24px\" viewBox=\"0 -960 960 960\">\n",
              "    <path d=\"M120-120v-720h720v720H120Zm60-500h600v-160H180v160Zm220 220h160v-160H400v160Zm0 220h160v-160H400v160ZM180-400h160v-160H180v160Zm440 0h160v-160H620v160ZM180-180h160v-160H180v160Zm440 0h160v-160H620v160Z\"/>\n",
              "  </svg>\n",
              "    </button>\n",
              "\n",
              "  <style>\n",
              "    .colab-df-container {\n",
              "      display:flex;\n",
              "      gap: 12px;\n",
              "    }\n",
              "\n",
              "    .colab-df-convert {\n",
              "      background-color: #E8F0FE;\n",
              "      border: none;\n",
              "      border-radius: 50%;\n",
              "      cursor: pointer;\n",
              "      display: none;\n",
              "      fill: #1967D2;\n",
              "      height: 32px;\n",
              "      padding: 0 0 0 0;\n",
              "      width: 32px;\n",
              "    }\n",
              "\n",
              "    .colab-df-convert:hover {\n",
              "      background-color: #E2EBFA;\n",
              "      box-shadow: 0px 1px 2px rgba(60, 64, 67, 0.3), 0px 1px 3px 1px rgba(60, 64, 67, 0.15);\n",
              "      fill: #174EA6;\n",
              "    }\n",
              "\n",
              "    .colab-df-buttons div {\n",
              "      margin-bottom: 4px;\n",
              "    }\n",
              "\n",
              "    [theme=dark] .colab-df-convert {\n",
              "      background-color: #3B4455;\n",
              "      fill: #D2E3FC;\n",
              "    }\n",
              "\n",
              "    [theme=dark] .colab-df-convert:hover {\n",
              "      background-color: #434B5C;\n",
              "      box-shadow: 0px 1px 3px 1px rgba(0, 0, 0, 0.15);\n",
              "      filter: drop-shadow(0px 1px 2px rgba(0, 0, 0, 0.3));\n",
              "      fill: #FFFFFF;\n",
              "    }\n",
              "  </style>\n",
              "\n",
              "    <script>\n",
              "      const buttonEl =\n",
              "        document.querySelector('#df-036b4cc3-5c76-4bca-917e-00cd2422460d button.colab-df-convert');\n",
              "      buttonEl.style.display =\n",
              "        google.colab.kernel.accessAllowed ? 'block' : 'none';\n",
              "\n",
              "      async function convertToInteractive(key) {\n",
              "        const element = document.querySelector('#df-036b4cc3-5c76-4bca-917e-00cd2422460d');\n",
              "        const dataTable =\n",
              "          await google.colab.kernel.invokeFunction('convertToInteractive',\n",
              "                                                    [key], {});\n",
              "        if (!dataTable) return;\n",
              "\n",
              "        const docLinkHtml = 'Like what you see? Visit the ' +\n",
              "          '<a target=\"_blank\" href=https://colab.research.google.com/notebooks/data_table.ipynb>data table notebook</a>'\n",
              "          + ' to learn more about interactive tables.';\n",
              "        element.innerHTML = '';\n",
              "        dataTable['output_type'] = 'display_data';\n",
              "        await google.colab.output.renderOutput(dataTable, element);\n",
              "        const docLink = document.createElement('div');\n",
              "        docLink.innerHTML = docLinkHtml;\n",
              "        element.appendChild(docLink);\n",
              "      }\n",
              "    </script>\n",
              "  </div>\n",
              "\n",
              "\n",
              "    </div>\n",
              "  </div>\n"
            ],
            "application/vnd.google.colaboratory.intrinsic+json": {
              "type": "dataframe",
              "summary": "{\n  \"name\": \"# df['Total_Value'] == df['Total_Value']\",\n  \"rows\": 1,\n  \"fields\": [\n    {\n      \"column\": \"Product_ID\",\n      \"properties\": {\n        \"dtype\": \"string\",\n        \"num_unique_values\": 1,\n        \"samples\": [\n          \"B002\"\n        ],\n        \"semantic_type\": \"\",\n        \"description\": \"\"\n      }\n    },\n    {\n      \"column\": \"Product_Name\",\n      \"properties\": {\n        \"dtype\": \"string\",\n        \"num_unique_values\": 1,\n        \"samples\": [\n          \"Smartphone\"\n        ],\n        \"semantic_type\": \"\",\n        \"description\": \"\"\n      }\n    }\n  ]\n}"
            }
          },
          "metadata": {},
          "execution_count": 33
        }
      ]
    },
    {
      "cell_type": "markdown",
      "source": [
        "### Question:\n",
        "\n",
        "You are a data analyst for an e-commerce company. The company wants to identify its most valuable customer based on total purchase amount. You have been provided with a data dictionary containing customer order data for the first two months of 2023.\n",
        "\n",
        "Your task is to determine which customer has spent the most money in total, and how much they have spent.  \n",
        "\n",
        "Sample dataset:  \n",
        "\n",
        "**data = {\n",
        "    'Customer_ID': ['C001', 'C002', 'C003', 'C004', 'C005', 'C001', 'C002', 'C003', 'C004', 'C005'],\n",
        "    'Order_Date': ['2023-01-15', '2023-01-16', '2023-01-17', '2023-01-18', '2023-01-19',\n",
        "                   '2023-02-01', '2023-02-02', '2023-02-03', '2023-02-04', '2023-02-05'],\n",
        "    'Product': ['A', 'B', 'C', 'A', 'B', 'C', 'A', 'B', 'C', 'A'],\n",
        "    'Quantity': [2, 1, 3, 2, 1, 1, 2, 1, 1, 3],\n",
        "    'Price': [100, 150, 200, 100, 150, 200, 100, 150, 200, 100]\n",
        "}**"
      ],
      "metadata": {
        "id": "6gWPrbFwWWri"
      }
    },
    {
      "cell_type": "code",
      "source": [
        "\n",
        "import pandas as pd\n",
        "\n",
        "# Sample dataset\n",
        "data = {\n",
        "    'Customer_ID': ['C001', 'C002', 'C003', 'C004', 'C005', 'C001', 'C002', 'C003', 'C004', 'C005'],\n",
        "    'Order_Date': ['2023-01-15', '2023-01-16', '2023-01-17', '2023-01-18', '2023-01-19',\n",
        "                   '2023-02-01', '2023-02-02', '2023-02-03', '2023-02-04', '2023-02-05'],\n",
        "    'Product': ['A', 'B', 'C', 'A', 'B', 'C', 'A', 'B', 'C', 'A'],\n",
        "    'Quantity': [2, 1, 3, 2, 1, 1, 2, 1, 1, 3],\n",
        "    'Price': [100, 150, 200, 100, 150, 200, 100, 150, 200, 100]\n",
        "}\n",
        "# Load the data\n",
        "df = pd.DataFrame(data)\n",
        "\n",
        "\n",
        "# 1. Create total money\n",
        "df['Total_Money'] = df['Quantity'] * df['Price']\n",
        "\n",
        "# 2. Find all the unique customer ID\n",
        "unique_cid = df['Customer_ID'].unique()\n",
        "# print(unique_cid)\n",
        "\n",
        "# 3. Create a variable to store the max amount and the max spending customer\n",
        "max_amount = 0\n",
        "most_spending_customer = None\n",
        "\n",
        "# 4. Iterate over each customer and find the total money spend\n",
        "for cid in unique_cid:\n",
        "  # Extract each customer's data\n",
        "  # print(f'Customer ID : {unique_cid}')\n",
        "  # print(df.loc[df['Customer_ID'] == cid])\n",
        "  # print('--------------------------------')\n",
        "\n",
        "  total_amount_spent = df.loc[df['Customer_ID'] == cid, 'Total_Money'].sum()\n",
        "  print(f'Customer ID: {cid} ; Money Spent: {total_amount_spent}')\n",
        "\n",
        "  if total_amount_spent > max_amount:\n",
        "\n",
        "    # print(f'New Maximum Found: {total_amount_spent} ; Customer ID: {cid}')\n",
        "    max_amount = total_amount_spent\n",
        "    most_spending_customer = cid\n",
        "\n",
        "print(f'Customer ID : {most_spending_customer}')\n",
        "print(f'Max Amount: {max_amount}')\n",
        "\n"
      ],
      "metadata": {
        "id": "bhBV-Ru1VVSJ",
        "colab": {
          "base_uri": "https://localhost:8080/"
        },
        "outputId": "99474c52-ff01-4d15-b2a7-ec8f0fe19bdc"
      },
      "execution_count": null,
      "outputs": [
        {
          "output_type": "stream",
          "name": "stdout",
          "text": [
            "Customer ID: C001 ; Money Spent: 400\n",
            "Customer ID: C002 ; Money Spent: 350\n",
            "Customer ID: C003 ; Money Spent: 750\n",
            "Customer ID: C004 ; Money Spent: 400\n",
            "Customer ID: C005 ; Money Spent: 450\n",
            "Customer ID : C003\n",
            "Max Amount: 750\n"
          ]
        }
      ]
    },
    {
      "cell_type": "code",
      "source": [
        "import numpy as np\n",
        "df['Total_Price']= df['Quantity'] * df['Price']\n",
        "df.set_index('Customer_ID', inplace= True)\n",
        "a= []\n",
        "b= []\n",
        "for i in df.index.unique():\n",
        "  a.append(np.sum(df.loc[i,'Total_Price']))\n",
        "  b.append(i)\n",
        "print(b[np.argmax(np.array(a))], np.max(np.array(a)))"
      ],
      "metadata": {
        "colab": {
          "base_uri": "https://localhost:8080/"
        },
        "id": "aHht1MjEFcqo",
        "outputId": "fddf4b97-ee43-4fe9-d93c-419e34bf44e9"
      },
      "execution_count": null,
      "outputs": [
        {
          "output_type": "stream",
          "name": "stdout",
          "text": [
            "C003 750\n"
          ]
        }
      ]
    },
    {
      "cell_type": "markdown",
      "source": [
        "### Question:\n",
        "\n",
        "You are an inventory manager for a retail company. The company wants to identify which product category has the highest percentage of inventory sold during March 2023. You have been provided with a data dictionary containing inventory data for the beginning and end of March 2023.\n",
        "\n",
        "Your task is to determine:\n",
        "1. Which product category has the highest percentage of inventory sold?\n",
        "2. What is the percentage of inventory sold for that category?  \n",
        "\n",
        "\n",
        "Sample dataset:  \n",
        "\n",
        "**data = {\n",
        "    'Product_ID': ['P001', 'P002', 'P003', 'P004', 'P005', 'P001', 'P002', 'P003', 'P004', 'P005'],\n",
        "    'Date': ['2023-03-01', '2023-03-01', '2023-03-01', '2023-03-01', '2023-03-01',\n",
        "             '2023-03-31', '2023-03-31', '2023-03-31', '2023-03-31', '2023-03-31'],\n",
        "    'Category': ['Electronics', 'Clothing', 'Home', 'Electronics', 'Clothing',\n",
        "                 'Electronics', 'Clothing', 'Home', 'Electronics', 'Clothing'],\n",
        "    'Initial_Stock': [100, 200, 150, 80, 120, 70, 180, 130, 60, 100],\n",
        "    'Units_Sold': [30, 20, 20, 20, 20, 40, 30, 30, 30, 30]\n",
        "}**"
      ],
      "metadata": {
        "id": "eiauRCbBZ6IN"
      }
    },
    {
      "cell_type": "code",
      "source": [
        "\n",
        "import pandas as pd\n",
        "\n",
        "# Sample dataset\n",
        "data = {\n",
        "    'Product_ID': ['P001', 'P002', 'P003', 'P004', 'P005', 'P001', 'P002', 'P003', 'P004', 'P005'],\n",
        "    'Date': ['2023-03-01', '2023-03-01', '2023-03-01', '2023-03-01', '2023-03-01',\n",
        "             '2023-03-31', '2023-03-31', '2023-03-31', '2023-03-31', '2023-03-31'],\n",
        "    'Category': ['Electronics', 'Clothing', 'Home', 'Electronics', 'Clothing',\n",
        "                 'Electronics', 'Clothing', 'Home', 'Electronics', 'Clothing'],\n",
        "    'Initial_Stock': [100, 200, 150, 80, 120, 70, 180, 130, 60, 100],\n",
        "    'Units_Sold': [30, 20, 20, 20, 20, 40, 30, 30, 30, 30]\n",
        "}\n",
        "# Load the data\n",
        "df = pd.DataFrame(data)\n",
        "# print(df.head())\n",
        "\n",
        "# df['Remaining_Stock'] = df['Initial_Stock'] - df['Units_Sold'] # How much stock is left\n",
        "\n",
        "# Unique Categories\n",
        "unique_categories = df['Category'].unique()\n",
        "\n",
        "# Variable to store top category and top percentage\n",
        "top_category = None\n",
        "top_percentage = 0\n",
        "\n",
        "# Iterate over each category\n",
        "for cat in unique_categories:\n",
        "  category_data = df.loc[df['Category'] == cat]\n",
        "\n",
        "  # print(f'Category : {cat}')\n",
        "  # print(category_data.head())\n",
        "  # print('=========================================')\n",
        "\n",
        "  percentage_sold = category_data['Units_Sold'].sum() / category_data['Initial_Stock'].sum() * 100\n",
        "\n",
        "  # Find the maximum value\n",
        "  if percentage_sold > top_percentage:\n",
        "    top_percentage = percentage_sold\n",
        "    top_category = cat\n",
        "\n",
        "print(f'Product category with the highest percentage of inventory sold : {top_category}')\n",
        "print(f'Highest percentage of inventory sold : {top_percentage}')"
      ],
      "metadata": {
        "id": "_1Dk4DWsaESh",
        "colab": {
          "base_uri": "https://localhost:8080/"
        },
        "outputId": "9356af8a-2351-42a0-f65f-53721212cfae"
      },
      "execution_count": null,
      "outputs": [
        {
          "output_type": "stream",
          "name": "stdout",
          "text": [
            "Product category with the highest percentage of inventory sold : Electronics\n",
            "Highest percentage of inventory sold : 38.70967741935484\n"
          ]
        }
      ]
    },
    {
      "cell_type": "code",
      "source": [
        "# Please explain:\n",
        "x = np.array([[200,200,200],[300,300,300],[400,400,400]])\n",
        "v = np.array([200,300,400])\n",
        "\n",
        "print(x)\n",
        "print(v)\n",
        "print((x / v[:,None])[1][1])"
      ],
      "metadata": {
        "id": "lFm_a0xyaFbA",
        "colab": {
          "base_uri": "https://localhost:8080/"
        },
        "outputId": "0009ae13-e6e3-4949-b65d-1b710b70eb57"
      },
      "execution_count": null,
      "outputs": [
        {
          "output_type": "stream",
          "name": "stdout",
          "text": [
            "[[200 200 200]\n",
            " [300 300 300]\n",
            " [400 400 400]]\n",
            "[200 300 400]\n",
            "1.0\n"
          ]
        }
      ]
    },
    {
      "cell_type": "code",
      "source": [
        "print(v[:,None]) # Reshape operation from 1 D to 2 D"
      ],
      "metadata": {
        "colab": {
          "base_uri": "https://localhost:8080/"
        },
        "id": "xoJwwiCtK7MD",
        "outputId": "23b21b5c-6f06-4e73-d6e6-534cdf7d9b26"
      },
      "execution_count": null,
      "outputs": [
        {
          "output_type": "stream",
          "name": "stdout",
          "text": [
            "[[200]\n",
            " [300]\n",
            " [400]]\n"
          ]
        }
      ]
    },
    {
      "cell_type": "code",
      "source": [
        "print((x / v[:,None])) # Dividing each element of the row using reshaped array"
      ],
      "metadata": {
        "colab": {
          "base_uri": "https://localhost:8080/"
        },
        "id": "FF6SgZlLLDlL",
        "outputId": "4bb3cb36-c82f-46ee-e08f-75deefb3acd6"
      },
      "execution_count": null,
      "outputs": [
        {
          "output_type": "stream",
          "name": "stdout",
          "text": [
            "[[1. 1. 1.]\n",
            " [1. 1. 1.]\n",
            " [1. 1. 1.]]\n"
          ]
        }
      ]
    },
    {
      "cell_type": "code",
      "source": [
        "v[ :, None]"
      ],
      "metadata": {
        "colab": {
          "base_uri": "https://localhost:8080/"
        },
        "id": "zxdTcqQqLEyr",
        "outputId": "86aec153-6bf2-4baf-d663-589b1b916d54"
      },
      "execution_count": null,
      "outputs": [
        {
          "output_type": "execute_result",
          "data": {
            "text/plain": [
              "array([[200],\n",
              "       [300],\n",
              "       [400]])"
            ]
          },
          "metadata": {},
          "execution_count": 64
        }
      ]
    },
    {
      "cell_type": "code",
      "source": [
        "# Q2:Please explain:\n",
        "data = np.random.randint(100, size= (4,3))\n",
        "a= np.vsplit(data, 4)[-1:]\n",
        "print(f'a= {a}')\n",
        "print(f'a.shape= {np.array(a).shape}', end='\\n\\n')\n",
        "\n",
        "b= np.vsplit(data, 4)[:-1]\n",
        "print(f'b= {b}')\n",
        "print(f'b.shape= {np.array(b).shape}', end='\\n\\n')\n",
        "print(f'Cyclic_shift= {a + b}', end='\\n\\n')\n",
        "print(f'result= {np.concatenate(a + b)}')\n",
        "print(f'result= {np.concatenate(a + b).shape}')"
      ],
      "metadata": {
        "colab": {
          "base_uri": "https://localhost:8080/"
        },
        "id": "Z1BPEcAgLrSI",
        "outputId": "9d66e918-6316-4743-9f1c-02079d079410"
      },
      "execution_count": null,
      "outputs": [
        {
          "output_type": "stream",
          "name": "stdout",
          "text": [
            "a= [array([[87, 87, 73]])]\n",
            "a.shape= (1, 1, 3)\n",
            "\n",
            "b= [array([[96, 53, 17]]), array([[ 0, 26, 38]]), array([[66, 96, 23]])]\n",
            "b.shape= (3, 1, 3)\n",
            "\n",
            "Cyclic_shift= [array([[87, 87, 73]]), array([[96, 53, 17]]), array([[ 0, 26, 38]]), array([[66, 96, 23]])]\n",
            "\n",
            "result= [[87 87 73]\n",
            " [96 53 17]\n",
            " [ 0 26 38]\n",
            " [66 96 23]]\n",
            "result= (4, 3)\n"
          ]
        }
      ]
    },
    {
      "cell_type": "code",
      "source": [
        "a= np.vsplit(data, 4)[-1:]\n",
        "b= np.vsplit(data, 4)[:-1]"
      ],
      "metadata": {
        "id": "pbd-CbSHMHjF"
      },
      "execution_count": null,
      "outputs": []
    },
    {
      "cell_type": "code",
      "source": [
        "print(a) # A list of array\n",
        "print(b)"
      ],
      "metadata": {
        "colab": {
          "base_uri": "https://localhost:8080/"
        },
        "id": "fTvX9_HJMlje",
        "outputId": "71cb878a-19e2-4f64-d226-1f26703dcd4b"
      },
      "execution_count": null,
      "outputs": [
        {
          "output_type": "stream",
          "name": "stdout",
          "text": [
            "[array([[87, 87, 73]])]\n",
            "[array([[96, 53, 17]]), array([[ 0, 26, 38]]), array([[66, 96, 23]])]\n"
          ]
        }
      ]
    },
    {
      "cell_type": "code",
      "source": [
        "print(type(a))"
      ],
      "metadata": {
        "colab": {
          "base_uri": "https://localhost:8080/"
        },
        "id": "esTNwnr2NjNN",
        "outputId": "e190af5d-d1ec-4b0a-91c7-363fa279254a"
      },
      "execution_count": null,
      "outputs": [
        {
          "output_type": "stream",
          "name": "stdout",
          "text": [
            "<class 'list'>\n"
          ]
        }
      ]
    },
    {
      "cell_type": "code",
      "source": [
        "np.array(a + b)"
      ],
      "metadata": {
        "colab": {
          "base_uri": "https://localhost:8080/"
        },
        "id": "zCsiU9x7MqpA",
        "outputId": "0efbedd5-5728-4340-c0c1-820bf1f254d9"
      },
      "execution_count": null,
      "outputs": [
        {
          "output_type": "execute_result",
          "data": {
            "text/plain": [
              "array([[[87, 87, 73]],\n",
              "\n",
              "       [[96, 53, 17]],\n",
              "\n",
              "       [[ 0, 26, 38]],\n",
              "\n",
              "       [[66, 96, 23]]])"
            ]
          },
          "metadata": {},
          "execution_count": 90
        }
      ]
    },
    {
      "cell_type": "code",
      "source": [
        "a + b"
      ],
      "metadata": {
        "colab": {
          "base_uri": "https://localhost:8080/"
        },
        "id": "GnPANw7nNN-N",
        "outputId": "ca7bd4b4-6377-4923-874f-30381b6957fc"
      },
      "execution_count": null,
      "outputs": [
        {
          "output_type": "execute_result",
          "data": {
            "text/plain": [
              "[array([[87, 87, 73]]),\n",
              " array([[96, 53, 17]]),\n",
              " array([[ 0, 26, 38]]),\n",
              " array([[66, 96, 23]])]"
            ]
          },
          "metadata": {},
          "execution_count": 87
        }
      ]
    },
    {
      "cell_type": "code",
      "source": [
        "# what is the error here in last code ?\n",
        "# Sample dataset\n",
        "data = {\n",
        "    'Customer_ID': ['C001', 'C002', 'C003', 'C004', 'C005', 'C001', 'C002', 'C003', 'C004', 'C005'],\n",
        "    'Order_Date': ['2023-01-15', '2023-01-16', '2023-01-17', '2023-01-18', '2023-01-19',\n",
        "                   '2023-02-01', '2023-02-02', '2023-02-03', '2023-02-04', '2023-02-05'],\n",
        "    'Product': ['A', 'B', 'C', 'A', 'B', 'C', 'A', 'B', 'C', 'A'],\n",
        "    'Quantity': [2, 1, 3, 2, 1, 1, 2, 1, 1, 3],\n",
        "    'Price': [100, 150, 200, 100, 150, 200, 100, 150, 200, 100]\n",
        "}\n",
        "# Load the data\n",
        "df = pd.DataFrame(data)\n",
        "df['totalspent'] = df['Quantity'] * df['Price']\n",
        "\n",
        "df2=df.groupby('Customer_ID')['totalspent'].sum().sort_values(ascending=False).to_frame()\n",
        "df2[df2['totalspent']==df.groupby('Customer_ID')['totalspent'].sum().sort_values(ascending=False).max()]\n"
      ],
      "metadata": {
        "colab": {
          "base_uri": "https://localhost:8080/",
          "height": 112
        },
        "id": "bXNa3eJ4Na-H",
        "outputId": "e8e6fb29-4398-4b36-a396-65603e24d114"
      },
      "execution_count": null,
      "outputs": [
        {
          "output_type": "execute_result",
          "data": {
            "text/plain": [
              "             totalspent\n",
              "Customer_ID            \n",
              "C003                750"
            ],
            "text/html": [
              "\n",
              "  <div id=\"df-d9a8ed8d-5614-436c-b6d0-958c0932768c\" class=\"colab-df-container\">\n",
              "    <div>\n",
              "<style scoped>\n",
              "    .dataframe tbody tr th:only-of-type {\n",
              "        vertical-align: middle;\n",
              "    }\n",
              "\n",
              "    .dataframe tbody tr th {\n",
              "        vertical-align: top;\n",
              "    }\n",
              "\n",
              "    .dataframe thead th {\n",
              "        text-align: right;\n",
              "    }\n",
              "</style>\n",
              "<table border=\"1\" class=\"dataframe\">\n",
              "  <thead>\n",
              "    <tr style=\"text-align: right;\">\n",
              "      <th></th>\n",
              "      <th>totalspent</th>\n",
              "    </tr>\n",
              "    <tr>\n",
              "      <th>Customer_ID</th>\n",
              "      <th></th>\n",
              "    </tr>\n",
              "  </thead>\n",
              "  <tbody>\n",
              "    <tr>\n",
              "      <th>C003</th>\n",
              "      <td>750</td>\n",
              "    </tr>\n",
              "  </tbody>\n",
              "</table>\n",
              "</div>\n",
              "    <div class=\"colab-df-buttons\">\n",
              "\n",
              "  <div class=\"colab-df-container\">\n",
              "    <button class=\"colab-df-convert\" onclick=\"convertToInteractive('df-d9a8ed8d-5614-436c-b6d0-958c0932768c')\"\n",
              "            title=\"Convert this dataframe to an interactive table.\"\n",
              "            style=\"display:none;\">\n",
              "\n",
              "  <svg xmlns=\"http://www.w3.org/2000/svg\" height=\"24px\" viewBox=\"0 -960 960 960\">\n",
              "    <path d=\"M120-120v-720h720v720H120Zm60-500h600v-160H180v160Zm220 220h160v-160H400v160Zm0 220h160v-160H400v160ZM180-400h160v-160H180v160Zm440 0h160v-160H620v160ZM180-180h160v-160H180v160Zm440 0h160v-160H620v160Z\"/>\n",
              "  </svg>\n",
              "    </button>\n",
              "\n",
              "  <style>\n",
              "    .colab-df-container {\n",
              "      display:flex;\n",
              "      gap: 12px;\n",
              "    }\n",
              "\n",
              "    .colab-df-convert {\n",
              "      background-color: #E8F0FE;\n",
              "      border: none;\n",
              "      border-radius: 50%;\n",
              "      cursor: pointer;\n",
              "      display: none;\n",
              "      fill: #1967D2;\n",
              "      height: 32px;\n",
              "      padding: 0 0 0 0;\n",
              "      width: 32px;\n",
              "    }\n",
              "\n",
              "    .colab-df-convert:hover {\n",
              "      background-color: #E2EBFA;\n",
              "      box-shadow: 0px 1px 2px rgba(60, 64, 67, 0.3), 0px 1px 3px 1px rgba(60, 64, 67, 0.15);\n",
              "      fill: #174EA6;\n",
              "    }\n",
              "\n",
              "    .colab-df-buttons div {\n",
              "      margin-bottom: 4px;\n",
              "    }\n",
              "\n",
              "    [theme=dark] .colab-df-convert {\n",
              "      background-color: #3B4455;\n",
              "      fill: #D2E3FC;\n",
              "    }\n",
              "\n",
              "    [theme=dark] .colab-df-convert:hover {\n",
              "      background-color: #434B5C;\n",
              "      box-shadow: 0px 1px 3px 1px rgba(0, 0, 0, 0.15);\n",
              "      filter: drop-shadow(0px 1px 2px rgba(0, 0, 0, 0.3));\n",
              "      fill: #FFFFFF;\n",
              "    }\n",
              "  </style>\n",
              "\n",
              "    <script>\n",
              "      const buttonEl =\n",
              "        document.querySelector('#df-d9a8ed8d-5614-436c-b6d0-958c0932768c button.colab-df-convert');\n",
              "      buttonEl.style.display =\n",
              "        google.colab.kernel.accessAllowed ? 'block' : 'none';\n",
              "\n",
              "      async function convertToInteractive(key) {\n",
              "        const element = document.querySelector('#df-d9a8ed8d-5614-436c-b6d0-958c0932768c');\n",
              "        const dataTable =\n",
              "          await google.colab.kernel.invokeFunction('convertToInteractive',\n",
              "                                                    [key], {});\n",
              "        if (!dataTable) return;\n",
              "\n",
              "        const docLinkHtml = 'Like what you see? Visit the ' +\n",
              "          '<a target=\"_blank\" href=https://colab.research.google.com/notebooks/data_table.ipynb>data table notebook</a>'\n",
              "          + ' to learn more about interactive tables.';\n",
              "        element.innerHTML = '';\n",
              "        dataTable['output_type'] = 'display_data';\n",
              "        await google.colab.output.renderOutput(dataTable, element);\n",
              "        const docLink = document.createElement('div');\n",
              "        docLink.innerHTML = docLinkHtml;\n",
              "        element.appendChild(docLink);\n",
              "      }\n",
              "    </script>\n",
              "  </div>\n",
              "\n",
              "\n",
              "    </div>\n",
              "  </div>\n"
            ],
            "application/vnd.google.colaboratory.intrinsic+json": {
              "type": "dataframe",
              "summary": "{\n  \"name\": \"df2[df2['totalspent']==df\",\n  \"rows\": 1,\n  \"fields\": [\n    {\n      \"column\": \"Customer_ID\",\n      \"properties\": {\n        \"dtype\": \"string\",\n        \"num_unique_values\": 1,\n        \"samples\": [\n          \"C003\"\n        ],\n        \"semantic_type\": \"\",\n        \"description\": \"\"\n      }\n    },\n    {\n      \"column\": \"totalspent\",\n      \"properties\": {\n        \"dtype\": \"number\",\n        \"std\": null,\n        \"min\": 750,\n        \"max\": 750,\n        \"num_unique_values\": 1,\n        \"samples\": [\n          750\n        ],\n        \"semantic_type\": \"\",\n        \"description\": \"\"\n      }\n    }\n  ]\n}"
            }
          },
          "metadata": {},
          "execution_count": 97
        }
      ]
    },
    {
      "cell_type": "code",
      "source": [
        "df.groupby('Customer_ID')['totalspent'].sum().sort_values(ascending=False).to_frame()"
      ],
      "metadata": {
        "colab": {
          "base_uri": "https://localhost:8080/"
        },
        "id": "-DFmN_LHOk1L",
        "outputId": "2cb94599-1a63-4538-81cb-fdf74c283135"
      },
      "execution_count": null,
      "outputs": [
        {
          "output_type": "execute_result",
          "data": {
            "text/plain": [
              "Index(['totalspent'], dtype='object')"
            ]
          },
          "metadata": {},
          "execution_count": 96
        }
      ]
    },
    {
      "cell_type": "code",
      "source": [],
      "metadata": {
        "id": "iciwetwUOrSo"
      },
      "execution_count": null,
      "outputs": []
    }
  ]
}